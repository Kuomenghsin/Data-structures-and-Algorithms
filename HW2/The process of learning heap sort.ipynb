{
 "cells": [
  {
   "cell_type": "markdown",
   "metadata": {},
   "source": [
    "# Heap Sort 學習歷程、流程圖"
   ]
  },
  {
   "cell_type": "markdown",
   "metadata": {},
   "source": [
    "哲學四 05113010 陳鳳庭"
   ]
  },
  {
   "cell_type": "markdown",
   "metadata": {},
   "source": [
    "## Content\n",
    "   \n",
    "   - [Heap Sort 學習歷程](http://localhost:8888/notebooks/Data%20%20structures%20and%20Algorithms/The%20process%20of%20learning%20heap%20sort.ipynb#Heap-Sort-%E5%AD%B8%E7%BF%92%E6%AD%B7%E7%A8%8B)\n",
    "       - [課堂練習](http://localhost:8888/notebooks/Data%20%20structures%20and%20Algorithms/The%20process%20of%20learning%20heap%20sort.ipynb#%E8%AA%B2%E5%A0%82%E7%B7%B4%E7%BF%92)\n",
    "       - [嘗試創建原始碼](http://localhost:8888/notebooks/Data%20%20structures%20and%20Algorithms/The%20process%20of%20learning%20heap%20sort.ipynb#%E5%98%97%E8%A9%A6%E5%89%B5%E5%BB%BA%E5%8E%9F%E5%A7%8B%E7%A2%BC)\n",
    "       - [回頭改善模擬範例Code](http://localhost:8888/notebooks/Data%20%20structures%20and%20Algorithms/The%20process%20of%20learning%20heap%20sort.ipynb#%E5%9B%9E%E9%A0%AD%E6%94%B9%E5%96%84%E6%A8%A1%E6%93%AC%E7%AF%84%E4%BE%8BCode)\n",
    "   - [Heap Sort 流程圖](http://localhost:8888/notebooks/Data%20%20structures%20and%20Algorithms/The%20process%20of%20learning%20heap%20sort.ipynb#Heap-Sort-%E6%B5%81%E7%A8%8B%E5%9C%96)\n",
    "       - Flowchart\n",
    "       - Demo\n",
    "   - [參考資料](http://localhost:8888/notebooks/Data%20%20structures%20and%20Algorithms/The%20process%20of%20learning%20heap%20sort.ipynb#%E5%8F%83%E8%80%83%E8%B3%87%E6%96%99)\n",
    "   \n",
    "          P.S.此處連結會另外開啟分頁"
   ]
  },
  {
   "cell_type": "markdown",
   "metadata": {},
   "source": [
    "___"
   ]
  },
  {
   "cell_type": "markdown",
   "metadata": {},
   "source": [
    "## Heap Sort 學習歷程"
   ]
  },
  {
   "cell_type": "markdown",
   "metadata": {},
   "source": [
    "### Heap Sort ：\n",
    "       1. 將list架構為heap二元樹結構\n",
    "       2. 將最上面balance的值抽出，重新balance"
   ]
  },
  {
   "cell_type": "markdown",
   "metadata": {},
   "source": [
    "### 課堂練習"
   ]
  },
  {
   "cell_type": "markdown",
   "metadata": {},
   "source": [
    "上完課對heap sort的演算法有所了解，但還是對如何用程式運作沒有什麼想法，所以先從老師給的範例code來學習"
   ]
  },
  {
   "cell_type": "markdown",
   "metadata": {},
   "source": [
    "- [最後成果](https://github.com/vanikk06/Data-structures-and-Algorithms/tree/master/week_6#design-heap-sort)\n",
    "- 👇🏻過程"
   ]
  },
  {
   "cell_type": "markdown",
   "metadata": {},
   "source": [
    "#### 先解決老師上課提到的bug問題"
   ]
  },
  {
   "cell_type": "code",
   "execution_count": 2,
   "metadata": {},
   "outputs": [
    {
     "data": {
      "text/plain": [
       "[1, 3, 4, 5, 10]"
      ]
     },
     "execution_count": 2,
     "metadata": {},
     "output_type": "execute_result"
    }
   ],
   "source": [
    "## 範例code\n",
    "    # 問題：從最後一個值，一個個把array的值放入heapify內，放入i = 5，l = 11，r = 12，皆超過array的長度\n",
    "\n",
    "def heapify(arr, n, i): \n",
    "    largest = i # Initialize largest as root    #👈🏻問題\n",
    "    l = 2 * i + 1    # left = 2*i + 1           #👈🏻👈🏻\n",
    "    r = 2 * i + 2    # right = 2*i + 2          #👈🏻👈🏻\n",
    "\n",
    "    # See if left child of root exists and is \n",
    "    # greater than root \n",
    "    if l < n and arr[i] < arr[l]: \n",
    "        largest = l \n",
    "\n",
    "    # See if right child of root exists and is \n",
    "    # greater than root \n",
    "    if r < n and arr[largest] < arr[r]: \n",
    "        largest = r \n",
    "\n",
    "    # Change root, if needed\n",
    "    if largest != i: \n",
    "        arr[i],arr[largest] = arr[largest],arr[i] # swap \n",
    "\n",
    "        # Heapify the root. \n",
    "        heapify(arr, n, largest) \n",
    "\n",
    "# The main function to sort an array of given size \n",
    "def heapSort(arr): \n",
    "    n = len(arr) \n",
    "\n",
    "    # Build a maxheap. \n",
    "    for i in range(n, -1, -1):           #👈🏻問題\n",
    "        heapify(arr, n, i) \n",
    "\n",
    "    # One by one extract elements \n",
    "    for i in range(n-1, 0, -1): \n",
    "        arr[i], arr[0] = arr[0], arr[i] # swap \n",
    "        heapify(arr, i, 0) \n",
    "\n",
    "arr = [4, 10, 3, 5, 1]\n",
    "heapSort(arr)\n",
    "arr"
   ]
  },
  {
   "cell_type": "markdown",
   "metadata": {},
   "source": [
    "檢查range"
   ]
  },
  {
   "cell_type": "code",
   "execution_count": 4,
   "metadata": {},
   "outputs": [
    {
     "name": "stdout",
     "output_type": "stream",
     "text": [
      "5\n",
      "4\n",
      "3\n",
      "2\n",
      "1\n",
      "0\n"
     ]
    }
   ],
   "source": [
    "n = len(arr)\n",
    "for i in range(n, -1, -1):\n",
    "    print(i)"
   ]
  },
  {
   "cell_type": "markdown",
   "metadata": {},
   "source": [
    "👆🏻i的個數超過array長度，且i為index，多一個5"
   ]
  },
  {
   "cell_type": "code",
   "execution_count": 7,
   "metadata": {},
   "outputs": [
    {
     "name": "stdout",
     "output_type": "stream",
     "text": [
      "4\n",
      "3\n",
      "2\n",
      "1\n",
      "0\n"
     ]
    }
   ],
   "source": [
    "for i in range(n-1, -1, -1):\n",
    "    print(i)"
   ]
  },
  {
   "cell_type": "code",
   "execution_count": 9,
   "metadata": {},
   "outputs": [
    {
     "name": "stdout",
     "output_type": "stream",
     "text": [
      "0\n",
      "1\n",
      "2\n",
      "3\n",
      "4\n"
     ]
    }
   ],
   "source": [
    "for i in range(n):\n",
    "    print(i)"
   ]
  },
  {
   "cell_type": "markdown",
   "metadata": {},
   "source": [
    "更改：把range改為符合index值的，並改為從前面一個個放入"
   ]
  },
  {
   "cell_type": "code",
   "execution_count": 10,
   "metadata": {},
   "outputs": [
    {
     "data": {
      "text/plain": [
       "[1, 3, 4, 5, 10]"
      ]
     },
     "execution_count": 10,
     "metadata": {},
     "output_type": "execute_result"
    }
   ],
   "source": [
    "## 範例code\n",
    "    # 問題：從最後一個值，一個個把array的值放入heapify內，放入i = 5，l = 11，r = 12，皆超過array的長度\n",
    "\n",
    "def heapify(arr, n, i): \n",
    "    largest = i # Initialize largest as root    #👈🏻問題\n",
    "    l = 2 * i + 1    # left = 2*i + 1           #👈🏻👈🏻\n",
    "    r = 2 * i + 2    # right = 2*i + 2          #👈🏻👈🏻\n",
    "\n",
    "    # See if left child of root exists and is \n",
    "    # greater than root \n",
    "    if l < n and arr[i] < arr[l]: \n",
    "        largest = l \n",
    "\n",
    "    # See if right child of root exists and is \n",
    "    # greater than root \n",
    "    if r < n and arr[largest] < arr[r]: \n",
    "        largest = r \n",
    "\n",
    "    # Change root, if needed\n",
    "    if largest != i: \n",
    "        arr[i],arr[largest] = arr[largest],arr[i] # swap \n",
    "\n",
    "        # Heapify the root. \n",
    "        heapify(arr, n, largest) \n",
    "\n",
    "# The main function to sort an array of given size \n",
    "def heapSort(arr): \n",
    "    n = len(arr) \n",
    "\n",
    "    # Build a maxheap. \n",
    "    for i in range(n):           #✍🏻更改\n",
    "        heapify(arr, n, i) \n",
    "\n",
    "    # One by one extract elements \n",
    "    for i in range(n-1, 0, -1): \n",
    "        arr[i], arr[0] = arr[0], arr[i] # swap \n",
    "        heapify(arr, i, 0) \n",
    "\n",
    "arr = [4, 10, 3, 5, 1]\n",
    "heapSort(arr)\n",
    "arr"
   ]
  },
  {
   "cell_type": "markdown",
   "metadata": {},
   "source": [
    "發現：其實不影響heap架構樹，因為heap樹在比較時，已經設立要在孩子的index小於array長度的情況下才會進行\n",
    "\n",
    "    P.S.即使將放入順序改為從第一個放入，在一個個放入的情況下，孩子的index也會超過array長度（以arr為例，在index=2的時候就超過了）"
   ]
  },
  {
   "cell_type": "markdown",
   "metadata": {},
   "source": [
    "#### 理解Code，並自己重新打一遍"
   ]
  },
  {
   "cell_type": "markdown",
   "metadata": {},
   "source": [
    "理解Code之後，蓋起來，試著自己打一次"
   ]
  },
  {
   "cell_type": "code",
   "execution_count": 16,
   "metadata": {},
   "outputs": [
    {
     "data": {
      "text/plain": [
       "[1, 3, 4, 5, 10]"
      ]
     },
     "execution_count": 16,
     "metadata": {},
     "output_type": "execute_result"
    }
   ],
   "source": [
    "## 模擬範例Code\n",
    "\n",
    "#建立heap的樹狀結構：Maxheap\n",
    "    # To heapify subtree rooted at index i.\n",
    "    # n:size of heap\n",
    "    \n",
    "\n",
    "def heapify(arr, n, i):\n",
    "    largest = i    #最初的largest\n",
    "    left = 2*i+1   #左邊孩子\n",
    "    right = 2*i+2  #右邊孩子\n",
    "    \n",
    "    if left < n and arr[i] < arr[left]:          #與左邊孩子比較\n",
    "        largest = left\n",
    "        \n",
    "    if right < n and arr[largest] < arr[right]:  #與右邊孩子比較\n",
    "        largest = right\n",
    "        \n",
    "    if largest != i:                             #交換\n",
    "        arr[i], arr[largest] = arr[largest], arr[i]\n",
    "        \n",
    "        heapify(arr, n, largest)                 #繼續往下比\n",
    "        \n",
    "        \n",
    "#用剛剛建起的樹狀結構來進行排序\n",
    "    # The main function to sort an array of given size\n",
    "\n",
    "def heap_sort(arr):\n",
    "    n = len(arr)\n",
    "    \n",
    "    # Build a maxheap.\n",
    "    for i in range(n):\n",
    "        heapify(arr, n, i)\n",
    "        \n",
    "    # One by one extract elements\n",
    "    for i in range(n-1, 0, -1):\n",
    "        arr[0], arr[i] = arr[i], arr[0] #抽出最大的\n",
    "        heapify(arr, i, 0)              #re-balance改變size of heap\n",
    "        \n",
    "arr = [4, 10, 3, 5, 1]\n",
    "heap_sort(arr)\n",
    "arr"
   ]
  },
  {
   "cell_type": "markdown",
   "metadata": {},
   "source": [
    "發現另一個bug：若最大值存在root的sub-subnode內，因無回頭check，會出現bug"
   ]
  },
  {
   "cell_type": "code",
   "execution_count": 17,
   "metadata": {},
   "outputs": [
    {
     "data": {
      "text/plain": [
       "[1, 3, 4, 10, 5]"
      ]
     },
     "execution_count": 17,
     "metadata": {},
     "output_type": "execute_result"
    }
   ],
   "source": [
    "arr1 = [4, 3, 5, 10, 1]\n",
    "heap_sort(arr1)\n",
    "arr1"
   ]
  },
  {
   "cell_type": "markdown",
   "metadata": {},
   "source": [
    "---"
   ]
  },
  {
   "cell_type": "markdown",
   "metadata": {},
   "source": [
    "### 嘗試創建原始碼"
   ]
  },
  {
   "cell_type": "markdown",
   "metadata": {},
   "source": [
    "#### 目標：試圖解決模擬範例Code遇到的bug\n",
    "    \n",
    "    Bug存在的原因在於，由上往下架構heap，當child往上與parents交換時，沒有回頭往上檢查parents與他的parents是否符合heap架構"
   ]
  },
  {
   "cell_type": "markdown",
   "metadata": {},
   "source": [
    "#### 解決方法：\n",
    "       \n",
    "       (1). 正面解決：若發生child與parents交換的情形，就必須回頭檢查，若再向上交換，又必須回頭檢查→ 👎🏻複雜且耗時耗能\n",
    "       (2). 反面解決：由下往上去架構heap → 👍🏻架構一次即可，不須額外消耗"
   ]
  },
  {
   "cell_type": "markdown",
   "metadata": {},
   "source": [
    "再參考網頁資料釐清觀念，觀摩[影片](https://www.youtube.com/watch?v=j-DqQcNPGbE)將程式編譯方式後，嘗試用python與minheap創建原始碼"
   ]
  },
  {
   "cell_type": "markdown",
   "metadata": {},
   "source": [
    "#### 想法"
   ]
  },
  {
   "cell_type": "markdown",
   "metadata": {},
   "source": [
    "利用list建立heapsrt，用index的指定關係來建立樹狀結構 → 將list想像成樹狀結構，每個node都因index存在而存在，只是不一定符合heap的架構\n",
    "\n",
    "先建立一個函式，讓node符合heap架構\n",
    "  - ˍheapity：堆疊化\n",
    "\n",
    "要從哪一個node開始進行_heapity\n",
    "  - ˍbuildˍminheap：由下往上進行_heapity，可避免前面遇到的bug\n",
    "\n",
    "用balance的heap來進行heap sort，因改用minheap，為了維持空間複雜度是in-place，不額外建立list，改採將balance的min抽出，放到最後一個\n",
    "  - heapˍsort：將balance的值取出，讓其re-balance"
   ]
  },
  {
   "cell_type": "markdown",
   "metadata": {},
   "source": [
    "#### heapity：堆疊化"
   ]
  },
  {
   "cell_type": "markdown",
   "metadata": {},
   "source": [
    "功能：讓node符合heap架構\n",
    "        1. 完全的二元樹：由上往下、由左往右生成\n",
    "        2. parents必小於child"
   ]
  },
  {
   "cell_type": "markdown",
   "metadata": {},
   "source": [
    "與範例程式相同，透過index指定的方式，讓list符合heap架構"
   ]
  },
  {
   "cell_type": "code",
   "execution_count": 2,
   "metadata": {},
   "outputs": [],
   "source": [
    "##架構heap\n",
    "\n",
    "def _heapity(list, n, i):\n",
    "    if i >= n:                                    #當新parents的index超過list長度就不須再往下檢查\n",
    "        return                                      #等於list長度也不需要，因其必為child\n",
    "                                                  #index\n",
    "    Min = i                                         #最初放入的index為i,暫定為Min(parents)\n",
    "    left = 2*i+1                                    #parents與左邊child關係\n",
    "    right = 2*i+2                                   #parents與右邊child關係\n",
    "    \n",
    "    if left < n and list[Min] > list[left]:       #parents與左邊child比較\n",
    "        Min = left                                #若left在list長度內，且其值小於Min，則取代Min\n",
    "    \n",
    "    if right < n and list[Min] > list[right]:     #parents與右邊child比較\n",
    "        Min = right                               #若right在list長度內，且其值小於Min，則取代Min\n",
    "        \n",
    "    if Min == left or Min == right:                                  #若Min發生改變\n",
    "        list[i], list[Min] = list[Min], list[i]   #則將i(parents)的值與Min的值交換\n",
    "        \n",
    "        _heapity(list, n, Min)                     #以新的parents繼續往下檢查"
   ]
  },
  {
   "cell_type": "markdown",
   "metadata": {},
   "source": [
    "#### 建立minheap"
   ]
  },
  {
   "cell_type": "markdown",
   "metadata": {},
   "source": [
    "由後往前一個個對list內的值進行heapity\n",
    "\n",
    "不須從最後一個開始，因為最後一個node必為child，即使對其進行heapity也是空轉，因此從最後一個child的parents開始進行heapity即可"
   ]
  },
  {
   "cell_type": "code",
   "execution_count": 3,
   "metadata": {},
   "outputs": [],
   "source": [
    "##由下往上進行heapity\n",
    "\n",
    "def _build_minheap(list, n):\n",
    "    last = n-1                          #最後一個node\n",
    "    parents = (last-1)//2               #child與parents的關係，取整數位\n",
    "    for i in range(parents, -1, -1):    #由後往前一個個進行heapity並往上堆疊\n",
    "        _heapity(list, n, i)"
   ]
  },
  {
   "cell_type": "markdown",
   "metadata": {},
   "source": [
    "檢查除法語法"
   ]
  },
  {
   "cell_type": "code",
   "execution_count": 21,
   "metadata": {
    "scrolled": true
   },
   "outputs": [
    {
     "data": {
      "text/plain": [
       "0"
      ]
     },
     "execution_count": 21,
     "metadata": {},
     "output_type": "execute_result"
    }
   ],
   "source": [
    "6%2 #除法：取餘數"
   ]
  },
  {
   "cell_type": "code",
   "execution_count": 25,
   "metadata": {},
   "outputs": [
    {
     "data": {
      "text/plain": [
       "3"
      ]
     },
     "execution_count": 25,
     "metadata": {},
     "output_type": "execute_result"
    }
   ],
   "source": [
    "6//2 #除法：取商數"
   ]
  },
  {
   "cell_type": "markdown",
   "metadata": {},
   "source": [
    "調整range範圍"
   ]
  },
  {
   "cell_type": "code",
   "execution_count": 26,
   "metadata": {},
   "outputs": [
    {
     "name": "stdout",
     "output_type": "stream",
     "text": [
      "5\n",
      "4\n",
      "3\n",
      "2\n",
      "1\n",
      "0\n"
     ]
    }
   ],
   "source": [
    "for i in range(5, -1, -1):\n",
    "    print(i)"
   ]
  },
  {
   "cell_type": "markdown",
   "metadata": {},
   "source": [
    "#### 建立heap sort"
   ]
  },
  {
   "cell_type": "markdown",
   "metadata": {},
   "source": [
    "把balance的minheap的第一個值抽出，放到list的最後一個，破壞balance，改變heap的size讓其re-balance"
   ]
  },
  {
   "cell_type": "code",
   "execution_count": 4,
   "metadata": {},
   "outputs": [],
   "source": [
    "##以minheap進行heap sort\n",
    "\n",
    "def heap_sort(list):\n",
    "    n = len(list)                   \n",
    "    \n",
    "    _build_minheap(list, n)         \n",
    "    \n",
    "    for i in range(1,5):            #👈🏼\n",
    "        list.append(list.pop(0))\n",
    "        _heapity(list, n-i, 0)\n",
    "    \n",
    "    return list"
   ]
  },
  {
   "cell_type": "markdown",
   "metadata": {},
   "source": [
    "檢查語法"
   ]
  },
  {
   "cell_type": "code",
   "execution_count": 28,
   "metadata": {},
   "outputs": [
    {
     "data": {
      "text/plain": [
       "[5, 2, 4, 3]"
      ]
     },
     "execution_count": 28,
     "metadata": {},
     "output_type": "execute_result"
    }
   ],
   "source": [
    "a = [3,5,2,4]\n",
    "a.append(a.pop(0))\n",
    "a"
   ]
  },
  {
   "cell_type": "code",
   "execution_count": 60,
   "metadata": {},
   "outputs": [
    {
     "name": "stdout",
     "output_type": "stream",
     "text": [
      "4\n",
      "1\n",
      "[5, 2, 4, 3]\n",
      "2\n",
      "[2, 4, 3, 5]\n",
      "3\n",
      "[4, 3, 5, 2]\n",
      "4\n",
      "[3, 5, 2, 4]\n"
     ]
    }
   ],
   "source": [
    "a = [3,5,2,4]\n",
    "print(len(a))\n",
    "\n",
    "for i in range(1,5):\n",
    "    a.append(a.pop(0))\n",
    "    print(i)\n",
    "    print(a)"
   ]
  },
  {
   "cell_type": "markdown",
   "metadata": {},
   "source": [
    "❌測值：失敗，回頭修改"
   ]
  },
  {
   "cell_type": "code",
   "execution_count": 6,
   "metadata": {},
   "outputs": [
    {
     "data": {
      "text/plain": [
       "[3, 4, 6, 9, 42, 4, 67, 890, 1, 2, 2, 2]"
      ]
     },
     "execution_count": 6,
     "metadata": {},
     "output_type": "execute_result"
    }
   ],
   "source": [
    "c = [3,6,2,9,67,4,1,2,42,4,2,890]\n",
    "heap_sort(c)"
   ]
  },
  {
   "cell_type": "code",
   "execution_count": 7,
   "metadata": {},
   "outputs": [],
   "source": [
    "##以minheap進行heap sort\n",
    "\n",
    "def heap_sort(list):\n",
    "    n = len(list)\n",
    "    \n",
    "    _build_minheap(list, n)\n",
    "    \n",
    "    for i in range(1,n+1):            #👈🏼\n",
    "        list.append(list.pop(0))\n",
    "        _heapity(list, n-i, 0)        #👈🏻\n",
    "        \n",
    "    return list"
   ]
  },
  {
   "cell_type": "markdown",
   "metadata": {},
   "source": [
    "❌測值：失敗，回頭修改"
   ]
  },
  {
   "cell_type": "code",
   "execution_count": 8,
   "metadata": {},
   "outputs": [
    {
     "data": {
      "text/plain": [
       "[1, 2, 2, 2, 3, 4, 6, 4, 9, 42, 67, 890]"
      ]
     },
     "execution_count": 8,
     "metadata": {},
     "output_type": "execute_result"
    }
   ],
   "source": [
    "c = [3,6,2,9,67,4,1,2,42,4,2,890]\n",
    "heap_sort(c)"
   ]
  },
  {
   "cell_type": "code",
   "execution_count": 58,
   "metadata": {
    "scrolled": true
   },
   "outputs": [
    {
     "data": {
      "text/plain": [
       "12"
      ]
     },
     "execution_count": 58,
     "metadata": {},
     "output_type": "execute_result"
    }
   ],
   "source": [
    "len(c)"
   ]
  },
  {
   "cell_type": "markdown",
   "metadata": {},
   "source": [
    "手畫了一下Demo，發現bug跟模擬範例Code的問題一樣，抽出後若使用_heapity去re-balance會出現與前面相同的問題，因此改用_build_minheap去re-balance"
   ]
  },
  {
   "cell_type": "code",
   "execution_count": 9,
   "metadata": {},
   "outputs": [],
   "source": [
    "##以minheap進行heap sort\n",
    "\n",
    "def heap_sort(list):\n",
    "    n = len(list)                  #list長度(node個數)    \n",
    "    \n",
    "    _build_minheap(list, n)        #建立minheap\n",
    "    \n",
    "    for i in range(1,n+1):\n",
    "        list.append(list.pop(0))\n",
    "        _build_minheap(list, n-i)  #👈🏻\n",
    "    \n",
    "    return list"
   ]
  },
  {
   "cell_type": "markdown",
   "metadata": {},
   "source": [
    "⭕測值：成功"
   ]
  },
  {
   "cell_type": "code",
   "execution_count": 10,
   "metadata": {},
   "outputs": [
    {
     "data": {
      "text/plain": [
       "[1, 2, 2, 2, 3, 4, 4, 6, 9, 42, 67, 890]"
      ]
     },
     "execution_count": 10,
     "metadata": {},
     "output_type": "execute_result"
    }
   ],
   "source": [
    "c = [3,6,2,9,67,4,1,2,42,4,2,890]\n",
    "heap_sort(c)\n",
    "c"
   ]
  },
  {
   "cell_type": "markdown",
   "metadata": {},
   "source": [
    "發現bug並成功debug之後才知道，原來一開始理解範例Code時，對進行heap sort的發法了解的不夠透徹，現在已經比較清楚了"
   ]
  },
  {
   "cell_type": "markdown",
   "metadata": {},
   "source": [
    "### 回頭改善模擬範例Code"
   ]
  },
  {
   "cell_type": "markdown",
   "metadata": {},
   "source": [
    "模擬範例Code的bug是因為我將heapity順序改為由上往下，範例Code原為由下往上，或許範例Code原本不存在此問題"
   ]
  },
  {
   "cell_type": "code",
   "execution_count": 68,
   "metadata": {},
   "outputs": [
    {
     "data": {
      "text/plain": [
       "[1, 3, 4, 5, 10]"
      ]
     },
     "execution_count": 68,
     "metadata": {},
     "output_type": "execute_result"
    }
   ],
   "source": [
    "## 範例code\n",
    "    # 問題：從最後一個值，一個個把array的值放入heapify內，放入i = 5，l = 11，r = 12，皆超過array的長度\n",
    "\n",
    "def heapify(arr, n, i): \n",
    "    largest = i # Initialize largest as root    \n",
    "    l = 2 * i + 1    # left = 2*i + 1           \n",
    "    r = 2 * i + 2    # right = 2*i + 2          \n",
    "\n",
    "    # See if left child of root exists and is \n",
    "    # greater than root \n",
    "    if l < n and arr[i] < arr[l]: \n",
    "        largest = l \n",
    "\n",
    "    # See if right child of root exists and is \n",
    "    # greater than root \n",
    "    if r < n and arr[largest] < arr[r]: \n",
    "        largest = r \n",
    "\n",
    "    # Change root, if needed\n",
    "    if largest != i: \n",
    "        arr[i],arr[largest] = arr[largest],arr[i] # swap \n",
    "\n",
    "        # Heapify the root. \n",
    "        heapify(arr, n, largest) \n",
    "\n",
    "# The main function to sort an array of given size \n",
    "def heapSort(arr): \n",
    "    n = len(arr) \n",
    "\n",
    "    # Build a maxheap. \n",
    "    for i in range(n, -1, -1):           #👈🏻👈🏻\n",
    "        heapify(arr, n, i) \n",
    "\n",
    "    # One by one extract elements \n",
    "    for i in range(n-1, 0, -1): \n",
    "        arr[i], arr[0] = arr[0], arr[i] # swap \n",
    "        heapify(arr, i, 0) \n",
    "\n",
    "arr1 = [4, 3, 5, 10, 1]\n",
    "heap_sort(arr1)\n",
    "arr1"
   ]
  },
  {
   "cell_type": "markdown",
   "metadata": {},
   "source": [
    "確實，其所存在bug只有range範圍設錯，更改為正確range範圍"
   ]
  },
  {
   "cell_type": "code",
   "execution_count": 69,
   "metadata": {},
   "outputs": [
    {
     "data": {
      "text/plain": [
       "[1, 3, 4, 5, 10]"
      ]
     },
     "execution_count": 69,
     "metadata": {},
     "output_type": "execute_result"
    }
   ],
   "source": [
    "## 範例code\n",
    "    # 問題：從最後一個值，一個個把array的值放入heapify內，放入i = 5，l = 11，r = 12，皆超過array的長度\n",
    "\n",
    "def heapify(arr, n, i): \n",
    "    largest = i # Initialize largest as root    \n",
    "    l = 2 * i + 1    # left = 2*i + 1           \n",
    "    r = 2 * i + 2    # right = 2*i + 2          \n",
    "\n",
    "    # See if left child of root exists and is \n",
    "    # greater than root \n",
    "    if l < n and arr[i] < arr[l]: \n",
    "        largest = l \n",
    "\n",
    "    # See if right child of root exists and is \n",
    "    # greater than root \n",
    "    if r < n and arr[largest] < arr[r]: \n",
    "        largest = r \n",
    "\n",
    "    # Change root, if needed\n",
    "    if largest != i: \n",
    "        arr[i],arr[largest] = arr[largest],arr[i] # swap \n",
    "\n",
    "        # Heapify the root. \n",
    "        heapify(arr, n, largest) \n",
    "\n",
    "# The main function to sort an array of given size \n",
    "def heapSort(arr): \n",
    "    n = len(arr) \n",
    "\n",
    "    # Build a maxheap. \n",
    "    for i in range(n-1, -1, -1):           #✍🏻✍🏻更改\n",
    "        heapify(arr, n, i) \n",
    "\n",
    "    # One by one extract elements \n",
    "    for i in range(n-1, 0, -1): \n",
    "        arr[i], arr[0] = arr[0], arr[i] # swap \n",
    "        heapify(arr, i, 0) \n",
    "\n",
    "arr1 = [4, 3, 5, 10, 1]\n",
    "heap_sort(arr1)\n",
    "arr1"
   ]
  },
  {
   "cell_type": "markdown",
   "metadata": {},
   "source": [
    "#### 範例Code VS. 嘗試創建原始碼"
   ]
  },
  {
   "cell_type": "markdown",
   "metadata": {},
   "source": [
    "兩者皆使用由下往上的方式，將list建構heapity結構，但範例Code從最後一個開始去建構的方式，會造成後面幾個node進行空轉的情形，相比我從參考影片觀摩到的從最後一個node的parents開始heapity的方法，較優"
   ]
  },
  {
   "cell_type": "markdown",
   "metadata": {},
   "source": [
    "---"
   ]
  },
  {
   "cell_type": "markdown",
   "metadata": {},
   "source": [
    "## Heap Sort 流程圖"
   ]
  },
  {
   "cell_type": "markdown",
   "metadata": {},
   "source": [
    "- Flowchart"
   ]
  },
  {
   "cell_type": "markdown",
   "metadata": {},
   "source": [
    "    ◎ heap_sort\n",
    "![](1573153309780.jpg)"
   ]
  },
  {
   "cell_type": "markdown",
   "metadata": {},
   "source": [
    "    ◎_build_minheap\n",
    "![](1573153821618.jpg)"
   ]
  },
  {
   "cell_type": "markdown",
   "metadata": {},
   "source": [
    "    ◎_heapity\n",
    "![](1573153794189.jpg)"
   ]
  },
  {
   "cell_type": "markdown",
   "metadata": {},
   "source": [
    " - Demo"
   ]
  },
  {
   "cell_type": "markdown",
   "metadata": {},
   "source": [
    "![](150261.jpg)"
   ]
  },
  {
   "cell_type": "markdown",
   "metadata": {},
   "source": [
    "---"
   ]
  },
  {
   "cell_type": "markdown",
   "metadata": {},
   "source": [
    "## 參考資料"
   ]
  },
  {
   "cell_type": "markdown",
   "metadata": {},
   "source": [
    "- [課堂範例Code](https://github.com/pecu/DSA/blob/master/06_HeapSort/heapSort.py)\n",
    "- [影片_堆排序(Heapsort)](https://www.youtube.com/watch?v=j-DqQcNPGbE)\n",
    "- [heapq --- 堆積佇列 (heap queue) 演算法](https://docs.python.org/zh-tw/3/library/heapq.html)\n",
    "- [演算法 堆積排序法(Heap Sort)](http://notepad.yehyeh.net/Content/Algorithm/Sort/Heap/Heap.php)\n",
    "- [Heap - 堆](https://algorithm.yuanbin.me/zh-tw/basics_data_structure/heap.html)"
   ]
  }
 ],
 "metadata": {
  "kernelspec": {
   "display_name": "Python 3",
   "language": "python",
   "name": "python3"
  },
  "language_info": {
   "codemirror_mode": {
    "name": "ipython",
    "version": 3
   },
   "file_extension": ".py",
   "mimetype": "text/x-python",
   "name": "python",
   "nbconvert_exporter": "python",
   "pygments_lexer": "ipython3",
   "version": "3.7.1"
  }
 },
 "nbformat": 4,
 "nbformat_minor": 2
}
