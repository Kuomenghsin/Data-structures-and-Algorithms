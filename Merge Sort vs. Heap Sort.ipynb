{
 "cells": [
  {
   "cell_type": "markdown",
   "metadata": {},
   "source": [
    "# Merge Sort vs. Heap Sort"
   ]
  },
  {
   "cell_type": "markdown",
   "metadata": {},
   "source": [
    "先建立一個簡單的表格，在一個個來比較"
   ]
  },
  {
   "cell_type": "markdown",
   "metadata": {},
   "source": [
    "| Sorting Algorithm | Design approach | Average Time | Best Time | Worst Time | Extra Space | Stability |\n",
    "| --- | --- | --- | --- | --- | --- | --- |\n",
    "| **Heap Sort** | Binary Tree | O(n log n) | O(n log n) | O(n log n) | O(1) | Unstable |\n",
    "| **Merge Sort** | Divide and Conquer | O(n log n) | O(n log n) | O(n log n) | O(n) | Stable |"
   ]
  },
  {
   "cell_type": "markdown",
   "metadata": {},
   "source": [
    "### Design approach "
   ]
  },
  {
   "cell_type": "markdown",
   "metadata": {},
   "source": [
    "- Heap Sort：採取**假想二元樹**的方式，將最大值/最小值放在top，再將top抽出，破壞樹的平衡，讓它往下繼續找出第二個最大值/最小值，重複執行到所有值都排序好\n",
    "   \n",
    "- Merge Sort：透過**遞迴**的方式，重複將數列分割成兩部份，值到不能分割為止（僅剩一個值），再將已排序數列一個個合併，直到還原成原本的長度"
   ]
  },
  {
   "cell_type": "markdown",
   "metadata": {},
   "source": [
    "### 時間複雜度"
   ]
  },
  {
   "cell_type": "markdown",
   "metadata": {},
   "source": [
    "兩者的時間複雜度都算穩定"
   ]
  },
  {
   "cell_type": "markdown",
   "metadata": {},
   "source": [
    "### 空間複雜度"
   ]
  },
  {
   "cell_type": "markdown",
   "metadata": {},
   "source": [
    "- Heap Sort：👍🏻，在二元樹上，如果出現出現child大於/小於parent的時候，是直接交兩者互換，所以是in-space的，不需要建立額外的空間\n",
    "- Merge Sort：採用遞迴方式，會需要很多額外的暫存空間，來記憶還沒執行的部分跟合併結果"
   ]
  },
  {
   "cell_type": "markdown",
   "metadata": {},
   "source": [
    "### Stability"
   ]
  },
  {
   "cell_type": "markdown",
   "metadata": {},
   "source": [
    "穩定度看得是兩個重複的值，再經過排序之後前後順序會不會改變，若前後順序改變的話，在某些情況下會增加元素交換的次數   e.g.比完總成績比國文成績\n",
    "- Heap Sort：倆倆交換時，是根據二元樹的位置來做交換，原本樹列index的意義會被打亂，所以是不穩定的\n",
    "- Merge Sort：👍🏻，一定是穩定的，因為其不存在交換，Merge Sort是將兩個已排序數列按由小大的順序重新合併在另一個暫存的數列中"
   ]
  },
  {
   "cell_type": "markdown",
   "metadata": {},
   "source": [
    "### 結論"
   ]
  },
  {
   "cell_type": "markdown",
   "metadata": {},
   "source": [
    "整體來看兩個排序方法，在不同方面都各有優缺點，沒有一定的好壞"
   ]
  },
  {
   "cell_type": "markdown",
   "metadata": {},
   "source": [
    "#### 參考資料"
   ]
  },
  {
   "cell_type": "markdown",
   "metadata": {},
   "source": [
    "- [演算法_堆積排序法(Heap Sort)](http://notepad.yehyeh.net/Content/Algorithm/Sort/Heap/Heap.php)\n",
    "- [演算法_合併排序法(Merge Sort)](http://notepad.yehyeh.net/Content/Algorithm/Sort/Merge/Merge.php)\n",
    "- [排序演算法的穩定性](https://codertw.com/%E7%A8%8B%E5%BC%8F%E8%AA%9E%E8%A8%80/92550/)"
   ]
  }
 ],
 "metadata": {
  "kernelspec": {
   "display_name": "Python 3",
   "language": "python",
   "name": "python3"
  },
  "language_info": {
   "codemirror_mode": {
    "name": "ipython",
    "version": 3
   },
   "file_extension": ".py",
   "mimetype": "text/x-python",
   "name": "python",
   "nbconvert_exporter": "python",
   "pygments_lexer": "ipython3",
   "version": "3.7.1"
  }
 },
 "nbformat": 4,
 "nbformat_minor": 2
}
