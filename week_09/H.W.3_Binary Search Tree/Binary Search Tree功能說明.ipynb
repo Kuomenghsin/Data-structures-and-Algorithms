{
 "cells": [
  {
   "cell_type": "markdown",
   "metadata": {},
   "source": [
    "# Binary Search Tree功能說明"
   ]
  },
  {
   "cell_type": "markdown",
   "metadata": {},
   "source": [
    "哲學四 05113010 陳鳳庭"
   ]
  },
  {
   "cell_type": "markdown",
   "metadata": {},
   "source": [
    "---"
   ]
  },
  {
   "cell_type": "markdown",
   "metadata": {},
   "source": [
    "## Content"
   ]
  },
  {
   "cell_type": "markdown",
   "metadata": {},
   "source": [
    "- [Insert](http://localhost:8888/notebooks/Data%20%20structures%20and%20Algorithms/Binary%20Search%20Tree%E5%8A%9F%E8%83%BD%E8%AA%AA%E6%98%8E.ipynb#Insert)\n",
    "- [Delete](http://localhost:8888/notebooks/Data%20%20structures%20and%20Algorithms/Binary%20Search%20Tree%E5%8A%9F%E8%83%BD%E8%AA%AA%E6%98%8E.ipynb#Delete)\n",
    "- [Search](http://localhost:8888/notebooks/Data%20%20structures%20and%20Algorithms/Binary%20Search%20Tree%E5%8A%9F%E8%83%BD%E8%AA%AA%E6%98%8E.ipynb#Search)\n",
    "- [Modify](http://localhost:8888/notebooks/Data%20%20structures%20and%20Algorithms/Binary%20Search%20Tree%E5%8A%9F%E8%83%BD%E8%AA%AA%E6%98%8E.ipynb#Modify)\n",
    "- [參考資料](http://localhost:8888/notebooks/Data%20%20structures%20and%20Algorithms/Binary%20Search%20Tree%E5%8A%9F%E8%83%BD%E8%AA%AA%E6%98%8E.ipynb#%E5%8F%83%E8%80%83%E8%B3%87%E6%96%99)"
   ]
  },
  {
   "cell_type": "markdown",
   "metadata": {},
   "source": [
    "---"
   ]
  },
  {
   "cell_type": "markdown",
   "metadata": {},
   "source": [
    "## Insert"
   ]
  },
  {
   "cell_type": "markdown",
   "metadata": {},
   "source": [
    "在BST上，新增、插入一筆val的資料"
   ]
  },
  {
   "cell_type": "markdown",
   "metadata": {},
   "source": [
    "#### ◎ 運作："
   ]
  },
  {
   "cell_type": "markdown",
   "metadata": {},
   "source": [
    "放入的val會與root相比，大於放右邊，小於、等於放左邊，若目標放置位置已有node存在，會繼續以此node作為parent並與其比較，重複\"大於放右邊，小於、等於放左邊\"之判斷，直到找到適當的放置位置"
   ]
  },
  {
   "cell_type": "markdown",
   "metadata": {},
   "source": [
    "#### ◎ 執行方式："
   ]
  },
  {
   "cell_type": "markdown",
   "metadata": {},
   "source": [
    "遞迴"
   ]
  },
  {
   "cell_type": "markdown",
   "metadata": {},
   "source": [
    "👉🏻在打完Search後，本來有嘗試想要將Insert的執行方法改成與Search相同，但後來發現Insert的遞迴不會增加空間複雜度，因此就沒特別去改"
   ]
  },
  {
   "cell_type": "markdown",
   "metadata": {},
   "source": [
    "#### ◎ 回傳值"
   ]
  },
  {
   "cell_type": "markdown",
   "metadata": {},
   "source": [
    "新增的node"
   ]
  },
  {
   "cell_type": "markdown",
   "metadata": {},
   "source": [
    "---"
   ]
  },
  {
   "cell_type": "markdown",
   "metadata": {},
   "source": [
    "## Delete"
   ]
  },
  {
   "cell_type": "markdown",
   "metadata": {},
   "source": [
    "刪除BST上所有target的資料"
   ]
  },
  {
   "cell_type": "markdown",
   "metadata": {},
   "source": [
    "#### ◎ 運作："
   ]
  },
  {
   "cell_type": "markdown",
   "metadata": {},
   "source": [
    "此部分較為複雜，為多個套件組合"
   ]
  },
  {
   "cell_type": "markdown",
   "metadata": {},
   "source": [
    "刪除步驟：為了讓BST的變動最小，因此採由下往上刪除的方式\n",
    "  1. 指到要刪除的node\n",
    "  2. 進行刪除"
   ]
  },
  {
   "cell_type": "markdown",
   "metadata": {},
   "source": [
    "- 指到要刪除的node：\n",
    "\n",
    "    創造兩個空間，一個作為移動指標，一個紀錄要刪除值的位置，為了方便後面刪除，同時記錄下移動指標與要刪除值位置的parent，與存在重複值的個數\n",
    "    \n",
    "    若pointer有孩子存在，就進行判斷然後移動；若pointer無孩子存在則跳出迴圈，此時pointer必為leaf node，將其與target比較，若相等則存入要刪除值的位置"
   ]
  },
  {
   "cell_type": "markdown",
   "metadata": {},
   "source": [
    "- 進行刪除：此部分為一般的node\n",
    "\n",
    "    存在三種情況\n",
    "    - 沒有孩子\n",
    "    - 有一個孩子\n",
    "    - 有兩個孩子\n",
    "    \n",
    "    根據個自情況，執行不同的刪除程序，最後返回刪除後的root\n",
    "    \n",
    "    👉🏻在兩個孩子的情況下，不直接刪除，而是將要刪除的值先用child覆蓋，直到找到沒有孩子或一個孩子的情況，再來刪除\n",
    "    \n",
    "       覆蓋方法：\n",
    "        - 在root左邊：用左邊child覆蓋\n",
    "        - 在root右邊：用右邊child覆蓋"
   ]
  },
  {
   "cell_type": "markdown",
   "metadata": {},
   "source": [
    "- 進行刪除：刪除root，以左子樹的最大值作為替補值\n",
    "\n",
    "    存在三種情況\n",
    "    - 最大值是root的左邊child\n",
    "    - 最大值非root的左邊child\n",
    "        - 最大值有child\n",
    "        - 最大值無child\n",
    "        >若最大值有小孩，則其必定是最大值的左邊child\n",
    "    \n",
    "    根據各自情況，執行不同的刪除程序，最後返回刪除後的root"
   ]
  },
  {
   "cell_type": "markdown",
   "metadata": {},
   "source": [
    "若存在重複值，則以新的BST再次進行刪除的判斷與程序"
   ]
  },
  {
   "cell_type": "markdown",
   "metadata": {},
   "source": [
    "#### ◎ 執行方式："
   ]
  },
  {
   "cell_type": "markdown",
   "metadata": {},
   "source": [
    "多個套件組合"
   ]
  },
  {
   "cell_type": "markdown",
   "metadata": {},
   "source": [
    "#### ◎ 回傳值"
   ]
  },
  {
   "cell_type": "markdown",
   "metadata": {},
   "source": [
    "刪除後的新BST，其root"
   ]
  },
  {
   "cell_type": "markdown",
   "metadata": {},
   "source": [
    "---"
   ]
  },
  {
   "cell_type": "markdown",
   "metadata": {},
   "source": [
    "## Search"
   ]
  },
  {
   "cell_type": "markdown",
   "metadata": {},
   "source": [
    "在BST上，搜尋離root最近的target資料"
   ]
  },
  {
   "cell_type": "markdown",
   "metadata": {},
   "source": [
    "#### ◎ 運作："
   ]
  },
  {
   "cell_type": "markdown",
   "metadata": {},
   "source": [
    "先將root暫存到一個pointer指標，方便操作"
   ]
  },
  {
   "cell_type": "markdown",
   "metadata": {},
   "source": [
    "目的：將pointer指到目標回傳位置\n",
    "\n",
    "從root開始，如果pointer的值不等於target，pointer就要進行移動\n",
    "- 如果pointer小於target而且pointer的左邊存在，就往左邊移動\n",
    "- 如果pointer大於target而且pointer的右邊存在，就往右邊移動\n",
    "- 如果pointer不等於target而且pointer要移動的位置並無node存在，就跳出函式，回傳Node（target不存在BST內）\n",
    "\n",
    "當pointer的值與target相等，就回傳pointer"
   ]
  },
  {
   "cell_type": "markdown",
   "metadata": {},
   "source": [
    "👉🏻要配合TreeNode.val不可為None，pointer必須確保目標移動位置已有node存在才可移動，否則會出現Error"
   ]
  },
  {
   "cell_type": "markdown",
   "metadata": {},
   "source": [
    "#### ◎ 執行方式："
   ]
  },
  {
   "cell_type": "markdown",
   "metadata": {},
   "source": [
    "創造暫存空間"
   ]
  },
  {
   "cell_type": "markdown",
   "metadata": {},
   "source": [
    "#### ◎ 回傳值"
   ]
  },
  {
   "cell_type": "markdown",
   "metadata": {},
   "source": [
    "搜尋到的node或None"
   ]
  },
  {
   "cell_type": "markdown",
   "metadata": {},
   "source": [
    "---"
   ]
  },
  {
   "cell_type": "markdown",
   "metadata": {},
   "source": [
    "## Modify"
   ]
  },
  {
   "cell_type": "markdown",
   "metadata": {},
   "source": [
    "修改，將已存在的node進行變動"
   ]
  },
  {
   "cell_type": "markdown",
   "metadata": {},
   "source": [
    "#### ◎ 運作："
   ]
  },
  {
   "cell_type": "markdown",
   "metadata": {},
   "source": [
    "原則上採取，將值全部刪除後，再新增插入\n",
    "\n",
    "分為三者情況：\n",
    "- 修改值非root\n",
    "- 修改值為root\n",
    "- 欲修改對象原值大於root，修改值與root相同\n",
    "\n",
    "依據各個情況，要對執行方式進行調整"
   ]
  },
  {
   "cell_type": "markdown",
   "metadata": {},
   "source": [
    "👉🏻 小心，修改後無法可能大於最低樹高"
   ]
  },
  {
   "cell_type": "markdown",
   "metadata": {},
   "source": [
    "#### ◎ 執行方式："
   ]
  },
  {
   "cell_type": "markdown",
   "metadata": {},
   "source": [
    "刪除後新增"
   ]
  },
  {
   "cell_type": "markdown",
   "metadata": {},
   "source": [
    "#### ◎ 回傳值"
   ]
  },
  {
   "cell_type": "markdown",
   "metadata": {},
   "source": [
    "修改後的新BST，其root"
   ]
  },
  {
   "cell_type": "markdown",
   "metadata": {},
   "source": [
    "---"
   ]
  },
  {
   "cell_type": "markdown",
   "metadata": {},
   "source": [
    "## 參考資料"
   ]
  },
  {
   "cell_type": "markdown",
   "metadata": {},
   "source": [
    "- [HW3程式碼格式](https://docs.google.com/presentation/d/e/2PACX-1vQgUh73yvSdxAvMH50DHWJ5lsCX8-daMxtoltU9rYW7xCmqYz2A1wOv0Vcx_F9KO5ZUvZBv3IF1TjGi/pub?start=false&loop=false&delayms=3000&slide=id.g73e451e679_0_23)\n",
    "- [課堂Github筆記](https://github.com/vanikk06/Data-structures-and-Algorithms)\n",
    "- HW3 - 作業程式碼"
   ]
  }
 ],
 "metadata": {
  "kernelspec": {
   "display_name": "Python 3",
   "language": "python",
   "name": "python3"
  },
  "language_info": {
   "codemirror_mode": {
    "name": "ipython",
    "version": 3
   },
   "file_extension": ".py",
   "mimetype": "text/x-python",
   "name": "python",
   "nbconvert_exporter": "python",
   "pygments_lexer": "ipython3",
   "version": "3.7.1"
  }
 },
 "nbformat": 4,
 "nbformat_minor": 2
}
