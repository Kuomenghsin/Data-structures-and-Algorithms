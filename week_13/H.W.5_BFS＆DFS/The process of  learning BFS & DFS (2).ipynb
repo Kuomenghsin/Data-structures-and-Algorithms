{
 "cells": [
  {
   "cell_type": "markdown",
   "metadata": {},
   "source": [
    "# The process of learning BFS & DFS"
   ]
  },
  {
   "cell_type": "markdown",
   "metadata": {},
   "source": [
    "哲學四 05113010 陳鳳庭"
   ]
  },
  {
   "cell_type": "markdown",
   "metadata": {},
   "source": [
    "## Content"
   ]
  },
  {
   "cell_type": "markdown",
   "metadata": {},
   "source": [
    "- [BFS與DFS原理與比較](#BFS與DFS原理與比較)\n",
    "- [程式碼設計](#設計程式碼)\n",
    "- [Demo](#Demo)\n",
    "- [參考資料](#參考資料)"
   ]
  },
  {
   "cell_type": "markdown",
   "metadata": {},
   "source": [
    "----"
   ]
  },
  {
   "cell_type": "markdown",
   "metadata": {},
   "source": [
    "## BFS與DFS原理與比較"
   ]
  },
  {
   "cell_type": "markdown",
   "metadata": {},
   "source": [
    "### BFS"
   ]
  },
  {
   "cell_type": "markdown",
   "metadata": {},
   "source": [
    "Breadth-First Search（廣度優先搜尋）\n",
    "- 走訪方式採Level-Order Traversal：從起點開始，根據**level由小到大**一層層走訪，直到遍歷完整個graph\n",
    "> 與起點距離相近的vertex，其走訪順序是相近的"
   ]
  },
  {
   "cell_type": "markdown",
   "metadata": {},
   "source": [
    "### DFS"
   ]
  },
  {
   "cell_type": "markdown",
   "metadata": {},
   "source": [
    "Depth-First Search（深度優先搜尋）\n",
    "- 走訪方式採Pre-Order Traversal：從起點開始，不斷地往前前進，**遇到的就先走訪**，當無路可走或所有相鄰的vertex皆已走訪過，就退回前一個vertex，繼續往前尋找尚未被走訪的vertex，直到遍歷完整個graph\n",
    "   > 逐個走訪每個路徑"
   ]
  },
  {
   "cell_type": "markdown",
   "metadata": {},
   "source": [
    "### BFS vs. DFS"
   ]
  },
  {
   "cell_type": "markdown",
   "metadata": {},
   "source": [
    "| Method | Design | Time Complexity |  Space Complexity |\n",
    "| --- | --- | --- | --- |\n",
    "| **BFS** | Queue | O(V+E) | 與**點數個數**成正比 |\n",
    "| **DFS** | Stack | O(V+E) | 與**遞迴深度**成正比 |"
   ]
  },
  {
   "cell_type": "markdown",
   "metadata": {},
   "source": [
    "- 時間複雜度："
   ]
  },
  {
   "cell_type": "markdown",
   "metadata": {},
   "source": [
    "BFS與DFS相同，因為兩者皆需要遍歷整個graph，所以時間複雜度皆為所有點數個數與所有邊個數相加"
   ]
  },
  {
   "cell_type": "markdown",
   "metadata": {},
   "source": [
    "- 空間複雜度：BFS與DFS的主要差異"
   ]
  },
  {
   "cell_type": "markdown",
   "metadata": {},
   "source": [
    "    ○ BFS：像是從一個點向四面八方擴張，通常需要的記憶體個數與點的個數成正比\n",
    "       →  一般解決最短路徑問題：使用大量的記憶體，來遍歷所有的點，以此找到最佳解\n",
    "  \n",
    "    ○ DFS：像是找到一條路徑就走到底，直到不能走為止，就退回上一個點，往其他路繼續走，因此，需要的記憶體個數會與路徑的深度成正比\n",
    "       → 一般解決連通性問題：使用較少的記憶體，來尋找解，速度較快，但找到的不一定是最佳解"
   ]
  },
  {
   "cell_type": "markdown",
   "metadata": {},
   "source": [
    "簡單來說，BFS是用空間換取時間，DFS是用時間換取空間\n",
    "\n",
    "在一般情況下，使用DFS解決的問題BFS皆可以解決，但基於DFS較好實現的原因，通常使用的是DFS"
   ]
  },
  {
   "cell_type": "markdown",
   "metadata": {},
   "source": [
    "---"
   ]
  },
  {
   "cell_type": "markdown",
   "metadata": {},
   "source": [
    "## 設計程式碼"
   ]
  },
  {
   "cell_type": "markdown",
   "metadata": {},
   "source": [
    "先測試一下要使用的套件"
   ]
  },
  {
   "cell_type": "code",
   "execution_count": 1,
   "metadata": {},
   "outputs": [],
   "source": [
    "from collections import defaultdict"
   ]
  },
  {
   "cell_type": "code",
   "execution_count": 2,
   "metadata": {},
   "outputs": [],
   "source": [
    "graph = defaultdict(list)"
   ]
  },
  {
   "cell_type": "code",
   "execution_count": 193,
   "metadata": {},
   "outputs": [],
   "source": [
    "w = defaultdict(list)"
   ]
  },
  {
   "cell_type": "code",
   "execution_count": 194,
   "metadata": {},
   "outputs": [
    {
     "name": "stdout",
     "output_type": "stream",
     "text": [
      "[2]\n"
     ]
    }
   ],
   "source": [
    "w[3].append(2)\n",
    "print(w[3])"
   ]
  },
  {
   "cell_type": "code",
   "execution_count": 196,
   "metadata": {},
   "outputs": [
    {
     "data": {
      "text/plain": [
       "[2]"
      ]
     },
     "execution_count": 196,
     "metadata": {},
     "output_type": "execute_result"
    }
   ],
   "source": [
    "er = w[3]\n",
    "er"
   ]
  },
  {
   "cell_type": "code",
   "execution_count": 62,
   "metadata": {},
   "outputs": [
    {
     "data": {
      "text/plain": [
       "True"
      ]
     },
     "execution_count": 62,
     "metadata": {},
     "output_type": "execute_result"
    }
   ],
   "source": [
    "a = [2,3,5,3,5,3,5]\n",
    "not (4 in a)"
   ]
  },
  {
   "cell_type": "markdown",
   "metadata": {},
   "source": [
    "助教測資範例"
   ]
  },
  {
   "cell_type": "code",
   "execution_count": 3,
   "metadata": {},
   "outputs": [
    {
     "data": {
      "text/plain": [
       "defaultdict(list, {0: [1, 2], 1: [2], 2: [0, 3], 3: [3]})"
      ]
     },
     "execution_count": 3,
     "metadata": {},
     "output_type": "execute_result"
    }
   ],
   "source": [
    "graph[0].append(1)\n",
    "graph[0].append(2)\n",
    "graph[1].append(2)\n",
    "graph[2].append(0)\n",
    "graph[2].append(3)\n",
    "graph[3].append(3)\n",
    "graph"
   ]
  },
  {
   "cell_type": "markdown",
   "metadata": {},
   "source": [
    "### BFS"
   ]
  },
  {
   "cell_type": "code",
   "execution_count": 230,
   "metadata": {},
   "outputs": [],
   "source": [
    "def BFS(s):\n",
    "    temp = [s]\n",
    "    bfs = [s]\n",
    "    queue = []\n",
    "    \n",
    "   \n",
    "    value = graph[s]\n",
    "    for i in value:\n",
    "        if not (i in temp):\n",
    "            queue.append(i)\n",
    "            temp.append(i)\n",
    "    \n",
    "    while queue:\n",
    "        value = graph[queue[0]]\n",
    "        for i in value:\n",
    "            if not (i in temp):\n",
    "                queue.append(i)\n",
    "                temp.append(i)\n",
    "        \n",
    "        bfs.append(queue.pop(0))\n",
    "        \n",
    "    return bfs"
   ]
  },
  {
   "cell_type": "code",
   "execution_count": 215,
   "metadata": {},
   "outputs": [
    {
     "data": {
      "text/plain": [
       "[2, 0, 3, 1]"
      ]
     },
     "execution_count": 215,
     "metadata": {},
     "output_type": "execute_result"
    }
   ],
   "source": [
    "BFS(2)"
   ]
  },
  {
   "cell_type": "markdown",
   "metadata": {},
   "source": [
    "測試"
   ]
  },
  {
   "cell_type": "code",
   "execution_count": 106,
   "metadata": {},
   "outputs": [
    {
     "name": "stdout",
     "output_type": "stream",
     "text": [
      "[3] [42]\n"
     ]
    }
   ],
   "source": [
    "k = [3,42]\n",
    "b = []\n",
    "b.append(k.pop(0))\n",
    "print(b, k)"
   ]
  },
  {
   "cell_type": "code",
   "execution_count": 97,
   "metadata": {},
   "outputs": [
    {
     "name": "stdout",
     "output_type": "stream",
     "text": [
      "1\n"
     ]
    }
   ],
   "source": [
    "q = [3]\n",
    "if q:\n",
    "    print(1)"
   ]
  },
  {
   "cell_type": "code",
   "execution_count": 237,
   "metadata": {},
   "outputs": [
    {
     "name": "stdout",
     "output_type": "stream",
     "text": [
      "[3, 2, 1]\n",
      "[4, 3, 2, 1]\n"
     ]
    }
   ],
   "source": [
    "test = [4]\n",
    "t = [3,2,4,1,3,4]\n",
    "s = []\n",
    "\n",
    "for i in t:\n",
    "    if not (i in test):\n",
    "        test.append(i)\n",
    "        s.append(i)\n",
    "\n",
    "print(s)\n",
    "print(test)"
   ]
  },
  {
   "cell_type": "code",
   "execution_count": 153,
   "metadata": {},
   "outputs": [
    {
     "data": {
      "text/plain": [
       "[]"
      ]
     },
     "execution_count": 153,
     "metadata": {},
     "output_type": "execute_result"
    }
   ],
   "source": [
    "e = t\n",
    "if e:\n",
    "    e.pop()\n",
    "e"
   ]
  },
  {
   "cell_type": "markdown",
   "metadata": {},
   "source": [
    "### DFS"
   ]
  },
  {
   "cell_type": "code",
   "execution_count": 238,
   "metadata": {},
   "outputs": [],
   "source": [
    "# ❌，先push再pop\n",
    "def DFS(s):\n",
    "    temp = [s]\n",
    "    dfs = [s]\n",
    "    stack = []\n",
    "    \n",
    "    value = graph[s]\n",
    "    for i in value:\n",
    "        if not (i in temp):\n",
    "            stack.append(i)\n",
    "            temp.append(i)\n",
    "    \n",
    "    while stack:\n",
    "        value = graph[stack[len(stack)-1]]\n",
    "        for i in value:\n",
    "            if not (i in temp):\n",
    "                stack.append(i)\n",
    "                temp.append(i)\n",
    "                    \n",
    "        dfs.append(stack.pop())\n",
    "        \n",
    "    return dfs"
   ]
  },
  {
   "cell_type": "code",
   "execution_count": 239,
   "metadata": {
    "scrolled": false
   },
   "outputs": [
    {
     "data": {
      "text/plain": [
       "[2, 3, 1, 0]"
      ]
     },
     "execution_count": 239,
     "metadata": {},
     "output_type": "execute_result"
    }
   ],
   "source": [
    "DFS(2)"
   ]
  },
  {
   "cell_type": "markdown",
   "metadata": {},
   "source": [
    "❌，第一次測試回傳值不如預期，因為在stack中pop是直接從最後一個取（最新進入的），所以必須先pop在進行push，調整一下"
   ]
  },
  {
   "cell_type": "code",
   "execution_count": 270,
   "metadata": {},
   "outputs": [],
   "source": [
    "def DFS(s):\n",
    "    temp = [s]\n",
    "    dfs = [s]\n",
    "    stack = []\n",
    "    \n",
    "    value = graph[s]\n",
    "    for i in value:\n",
    "        if not (i in temp):\n",
    "            stack.append(i)\n",
    "            temp.append(i)\n",
    "    \n",
    "    while stack:\n",
    "        tempp = stack.pop()\n",
    "        dfs.append(tempp)\n",
    "        \n",
    "        value = graph[tempp]\n",
    "        for i in value:\n",
    "            if not (i in temp):\n",
    "                stack.append(i)\n",
    "                temp.append(i)\n",
    "            \n",
    "    return dfs"
   ]
  },
  {
   "cell_type": "code",
   "execution_count": 225,
   "metadata": {},
   "outputs": [
    {
     "data": {
      "text/plain": [
       "[1, 2, 3, 0]"
      ]
     },
     "execution_count": 225,
     "metadata": {},
     "output_type": "execute_result"
    }
   ],
   "source": [
    "DFS(1)"
   ]
  },
  {
   "cell_type": "markdown",
   "metadata": {},
   "source": [
    "測試"
   ]
  },
  {
   "cell_type": "code",
   "execution_count": 217,
   "metadata": {},
   "outputs": [
    {
     "data": {
      "text/plain": [
       "3"
      ]
     },
     "execution_count": 217,
     "metadata": {},
     "output_type": "execute_result"
    }
   ],
   "source": [
    "o = [3,4,2,1]\n",
    "len(o)-1"
   ]
  },
  {
   "cell_type": "markdown",
   "metadata": {},
   "source": [
    "### 範例測試"
   ]
  },
  {
   "cell_type": "markdown",
   "metadata": {},
   "source": [
    "帶課堂上其他例題來測試看看"
   ]
  },
  {
   "cell_type": "code",
   "execution_count": 246,
   "metadata": {},
   "outputs": [],
   "source": [
    "test = defaultdict(list)"
   ]
  },
  {
   "cell_type": "code",
   "execution_count": 247,
   "metadata": {},
   "outputs": [],
   "source": [
    "test[11].append(10)\n",
    "test[10].append(11)\n",
    "test[10].append(9)\n",
    "test[10].append(6)\n",
    "test[9].append(4)\n",
    "test[9].append(7)\n",
    "test[9].append(10)\n",
    "test[6].append(10)\n",
    "test[6].append(8)\n",
    "test[7].append(9)\n",
    "test[7].append(4)\n",
    "test[7].append(2)\n",
    "test[7].append(5)\n",
    "test[7].append(8)\n",
    "test[8].append(7)\n",
    "test[8].append(5)\n",
    "test[8].append(2)\n",
    "test[5].append(8)\n",
    "test[5].append(7)\n",
    "test[5].append(2)\n",
    "test[5].append(3)\n",
    "test[5].append(12)\n",
    "test[2].append(3)\n",
    "test[2].append(5)\n",
    "test[2].append(7)\n",
    "test[2].append(4)\n",
    "test[2].append(12)\n",
    "test[2].append(8)\n",
    "test[4].append(1)\n",
    "test[4].append(2)\n",
    "test[4].append(7)\n",
    "test[4].append(9)\n",
    "test[3].append(1)\n",
    "test[3].append(2)\n",
    "test[3].append(5)\n",
    "test[3].append(12)\n",
    "test[1].append(3)\n",
    "test[1].append(4)\n",
    "test[12].append(3)\n",
    "test[12].append(2)\n",
    "test[12].append(5)"
   ]
  },
  {
   "cell_type": "code",
   "execution_count": 248,
   "metadata": {},
   "outputs": [],
   "source": [
    "def BFS1(s):\n",
    "    temp = [s]\n",
    "    bfs = [s]\n",
    "    queue = []\n",
    "    \n",
    "   \n",
    "    value = test[s]\n",
    "    for i in value:\n",
    "        if not (i in temp):\n",
    "            queue.append(i)\n",
    "            temp.append(i)\n",
    "    \n",
    "    while queue:\n",
    "        value = test[queue[0]]\n",
    "        for i in value:\n",
    "            if not (i in temp):\n",
    "                queue.append(i)\n",
    "                temp.append(i)\n",
    "        \n",
    "        bfs.append(queue.pop(0))\n",
    "        \n",
    "    return bfs"
   ]
  },
  {
   "cell_type": "code",
   "execution_count": 234,
   "metadata": {},
   "outputs": [
    {
     "data": {
      "text/plain": [
       "[11, 10, 9, 6, 4, 7, 8, 1, 2, 5, 3, 12]"
      ]
     },
     "execution_count": 234,
     "metadata": {},
     "output_type": "execute_result"
    }
   ],
   "source": [
    "BFS1(11)"
   ]
  },
  {
   "cell_type": "code",
   "execution_count": 257,
   "metadata": {},
   "outputs": [],
   "source": [
    "def DFS1(s):\n",
    "    temp = [s]\n",
    "    dfs = [s]\n",
    "    stack = []\n",
    "    \n",
    "    value = test[s]\n",
    "    for i in value:\n",
    "        if not (i in temp):\n",
    "            stack.append(i)\n",
    "            temp.append(i)\n",
    "    \n",
    "    while stack:\n",
    "        tempp = stack.pop()\n",
    "        dfs.append(tempp)\n",
    "        \n",
    "        value = test[tempp]\n",
    "        for i in value:\n",
    "            if not (i in temp):\n",
    "                stack.append(i)\n",
    "                temp.append(i)\n",
    "            \n",
    "    return dfs"
   ]
  },
  {
   "cell_type": "code",
   "execution_count": 236,
   "metadata": {},
   "outputs": [
    {
     "data": {
      "text/plain": [
       "[11, 10, 6, 8, 2, 12, 4, 1, 3, 5, 7, 9]"
      ]
     },
     "execution_count": 236,
     "metadata": {},
     "output_type": "execute_result"
    }
   ],
   "source": [
    "DFS1(11)"
   ]
  },
  {
   "cell_type": "markdown",
   "metadata": {},
   "source": [
    "測試成功，嘗試將重複的程式碼包成套件"
   ]
  },
  {
   "cell_type": "code",
   "execution_count": 264,
   "metadata": {},
   "outputs": [],
   "source": [
    "def _key_value(key, method, temp):\n",
    "    value = graph[key]\n",
    "    \n",
    "    for i in value:\n",
    "        if not (i in temp):\n",
    "            method.append(i)\n",
    "            temp.append(i)\n",
    "    \n",
    "    return method, temp"
   ]
  },
  {
   "cell_type": "code",
   "execution_count": 265,
   "metadata": {},
   "outputs": [],
   "source": [
    "def BFS2(s):\n",
    "    temp = [s]\n",
    "    bfs = [s]\n",
    "    queue = []\n",
    "    \n",
    "    queue, temp = _key_value(s, queue, temp)\n",
    "\n",
    "    while queue:\n",
    "        queue, temp = _key_value(queue[0], queue, temp)\n",
    "        \n",
    "        bfs.append(queue.pop(0))\n",
    "        \n",
    "    return bfs"
   ]
  },
  {
   "cell_type": "code",
   "execution_count": 273,
   "metadata": {},
   "outputs": [
    {
     "data": {
      "text/plain": [
       "[1, 2, 0, 3]"
      ]
     },
     "execution_count": 273,
     "metadata": {},
     "output_type": "execute_result"
    }
   ],
   "source": [
    "BFS(1)"
   ]
  },
  {
   "cell_type": "code",
   "execution_count": 253,
   "metadata": {},
   "outputs": [
    {
     "data": {
      "text/plain": [
       "[11, 10, 9, 6, 4, 7, 8, 1, 2, 5, 3, 12]"
      ]
     },
     "execution_count": 253,
     "metadata": {},
     "output_type": "execute_result"
    }
   ],
   "source": [
    "BFS2(11)"
   ]
  },
  {
   "cell_type": "code",
   "execution_count": 266,
   "metadata": {},
   "outputs": [],
   "source": [
    "def DFS2(s):\n",
    "    temp = [s]\n",
    "    dfs = [s]\n",
    "    stack = []\n",
    "    \n",
    "    stack, temp = _key_value(s, stack, temp)\n",
    "   \n",
    "    while stack:\n",
    "        tempp = stack.pop()\n",
    "        dfs.append(tempp)\n",
    "        \n",
    "        stack, temp = _key_value(tempp, stack, temp)\n",
    "            \n",
    "    return dfs"
   ]
  },
  {
   "cell_type": "code",
   "execution_count": 272,
   "metadata": {},
   "outputs": [
    {
     "data": {
      "text/plain": [
       "[1, 2, 3, 0]"
      ]
     },
     "execution_count": 272,
     "metadata": {},
     "output_type": "execute_result"
    }
   ],
   "source": [
    "DFS(1)"
   ]
  },
  {
   "cell_type": "code",
   "execution_count": 258,
   "metadata": {},
   "outputs": [
    {
     "data": {
      "text/plain": [
       "[11, 10, 6, 8, 2, 12, 4, 1, 3, 5, 7, 9]"
      ]
     },
     "execution_count": 258,
     "metadata": {},
     "output_type": "execute_result"
    }
   ],
   "source": [
    "DFS1(11)"
   ]
  },
  {
   "cell_type": "code",
   "execution_count": 268,
   "metadata": {},
   "outputs": [
    {
     "data": {
      "text/plain": [
       "[2, 3, 0, 1]"
      ]
     },
     "execution_count": 268,
     "metadata": {},
     "output_type": "execute_result"
    }
   ],
   "source": [
    "DFS2(2)"
   ]
  },
  {
   "cell_type": "markdown",
   "metadata": {},
   "source": [
    "---"
   ]
  },
  {
   "cell_type": "markdown",
   "metadata": {},
   "source": [
    "## Demo"
   ]
  },
  {
   "cell_type": "markdown",
   "metadata": {},
   "source": [
    "- BFS"
   ]
  },
  {
   "cell_type": "code",
   "execution_count": 8,
   "metadata": {},
   "outputs": [
    {
     "data": {
      "text/html": [
       "<img src=\"Webp.net-gifmaker.gif\" width=\"400\" height=\"500\"/>"
      ],
      "text/plain": [
       "<IPython.core.display.Image object>"
      ]
     },
     "execution_count": 8,
     "metadata": {},
     "output_type": "execute_result"
    }
   ],
   "source": [
    "from IPython.display import Image\n",
    "Image(url=\"Webp.net-gifmaker.gif\", width=400, height=500)"
   ]
  },
  {
   "cell_type": "markdown",
   "metadata": {},
   "source": [
    "![test](https://github.com/vanikk06/Data-structures-and-Algorithms/blob/master/week_13/image/Webp.net-gifmaker.gif)"
   ]
  },
  {
   "cell_type": "code",
   "execution_count": 9,
   "metadata": {},
   "outputs": [
    {
     "data": {
      "text/html": [
       "<img src=\"https://github.com/vanikk06/Data-structures-and-Algorithms/blob/master/week_13/image/Webp.net-gifmaker.gif\">\n"
      ],
      "text/plain": [
       "<IPython.core.display.HTML object>"
      ]
     },
     "metadata": {},
     "output_type": "display_data"
    }
   ],
   "source": [
    "%%html\n",
    "<img src=\"https://github.com/vanikk06/Data-structures-and-Algorithms/blob/master/week_13/image/Webp.net-gifmaker.gif\">"
   ]
  },
  {
   "cell_type": "markdown",
   "metadata": {},
   "source": [
    "Queue中灰色部分，表示當次提取的值"
   ]
  },
  {
   "cell_type": "markdown",
   "metadata": {},
   "source": [
    "- DFS"
   ]
  },
  {
   "cell_type": "code",
   "execution_count": 4,
   "metadata": {
    "scrolled": false
   },
   "outputs": [
    {
     "ename": "NameError",
     "evalue": "name 'Image' is not defined",
     "output_type": "error",
     "traceback": [
      "\u001b[1;31m---------------------------------------------------------------------------\u001b[0m",
      "\u001b[1;31mNameError\u001b[0m                                 Traceback (most recent call last)",
      "\u001b[1;32m<ipython-input-4-a0981d70674e>\u001b[0m in \u001b[0;36m<module>\u001b[1;34m\u001b[0m\n\u001b[1;32m----> 1\u001b[1;33m \u001b[0mImage\u001b[0m\u001b[1;33m(\u001b[0m\u001b[0mfilename\u001b[0m\u001b[1;33m=\u001b[0m\u001b[1;34m\"ifmaker1.gif\"\u001b[0m\u001b[1;33m,\u001b[0m \u001b[0mwidth\u001b[0m\u001b[1;33m=\u001b[0m\u001b[1;36m400\u001b[0m\u001b[1;33m,\u001b[0m \u001b[0mheight\u001b[0m\u001b[1;33m=\u001b[0m\u001b[1;36m500\u001b[0m\u001b[1;33m)\u001b[0m\u001b[1;33m\u001b[0m\u001b[1;33m\u001b[0m\u001b[0m\n\u001b[0m",
      "\u001b[1;31mNameError\u001b[0m: name 'Image' is not defined"
     ]
    }
   ],
   "source": [
    "Image(filename=\"ifmaker1.gif\", width=400, height=500)"
   ]
  },
  {
   "cell_type": "markdown",
   "metadata": {},
   "source": [
    "Stack中灰色部分，表示當次提取的值"
   ]
  },
  {
   "cell_type": "markdown",
   "metadata": {},
   "source": [
    "---"
   ]
  },
  {
   "cell_type": "markdown",
   "metadata": {},
   "source": [
    "## 參考資料"
   ]
  },
  {
   "cell_type": "markdown",
   "metadata": {},
   "source": [
    "- [課堂PPT_BFS](https://docs.google.com/presentation/d/e/2PACX-1vSYJYXUXvGAeTZ5fknxj_-EPm3zxgy4ITdImrXzy63Y-iZgs8uwVNmOaZlnx9fUNzsbo8kphvMTa0c4/pub?start=false&loop=false&delayms=3000&slide=id.p)\n",
    "- [課堂PPT_DFS](https://docs.google.com/presentation/d/e/2PACX-1vTma_vOZyE70O23KWw4I4Y78aAaT5fJSTq7Mae912kCwka_u5ZMWPoo14D86-x-57kZPbb6hAGktSW4/pub?start=false&loop=false&delayms=3000&slide=id.p)\n",
    "- [個人github筆記](https://github.com/vanikk06/Data-structures-and-Algorithms)\n",
    "    - [Breadth-First Search](https://github.com/vanikk06/Data-structures-and-Algorithms/tree/master/week_12#breadth-first-search)\n",
    "    - [Depth-First Search](https://github.com/vanikk06/Data-structures-and-Algorithms/blob/master/week_13/README.md#depth-first-search)\n",
    "    - [BFS vs. DFS](https://github.com/vanikk06/Data-structures-and-Algorithms/blob/master/week_13/README.md#bfs-vs-dfs)"
   ]
  }
 ],
 "metadata": {
  "kernelspec": {
   "display_name": "Python 3",
   "language": "python",
   "name": "python3"
  },
  "language_info": {
   "codemirror_mode": {
    "name": "ipython",
    "version": 3
   },
   "file_extension": ".py",
   "mimetype": "text/x-python",
   "name": "python",
   "nbconvert_exporter": "python",
   "pygments_lexer": "ipython3",
   "version": "3.7.1"
  }
 },
 "nbformat": 4,
 "nbformat_minor": 2
}
