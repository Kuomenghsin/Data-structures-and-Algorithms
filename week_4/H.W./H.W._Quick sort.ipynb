{
 "cells": [
  {
   "cell_type": "markdown",
   "metadata": {},
   "source": [
    "# Quick Sort"
   ]
  },
  {
   "cell_type": "markdown",
   "metadata": {},
   "source": [
    "哲學四 陳鳳庭 05113010"
   ]
  },
  {
   "cell_type": "markdown",
   "metadata": {},
   "source": [
    "# Introduction"
   ]
  },
  {
   "cell_type": "markdown",
   "metadata": {},
   "source": [
    " - quick sort(快速排序法)，一種排序方式，使用Divide and Conquer(分治法：將問題切小再解決，最後將結果合併)方式進行\n",
    " - 先取一個值為基準點(key)，以基準點為主將其他數字分為兩堆，一堆大於基準點(big_list)，一堆小於基準點(small_list)，再對兩堆以**相同取基準點的方式**，重複進行此動作"
   ]
  },
  {
   "cell_type": "code",
   "execution_count": 28,
   "metadata": {},
   "outputs": [],
   "source": [
    "def quick_sort(list):\n",
    "    key_list = []\n",
    "    small_list = []\n",
    "    big_list = []\n",
    "    \n",
    "    if len(list) <= 1:                    #排除list空的、只有一個值的情況\n",
    "        return list                       #若無list，會出現(TypeError: unsupported operand type(s) for +: 'NoneType' and 'list')\n",
    "    \n",
    "    key = list[0]                         #將index[0]設為key\n",
    "    for i in list:\n",
    "        if i > key:                       #大於key的值放入big_list\n",
    "            big_list.append(i)\n",
    "        elif i < key:                     #小於key的值放入small_list\n",
    "            small_list.append(i)          \n",
    "        else:                             #等於key的值放入key_list\n",
    "            key_list.append(i)\n",
    "            \n",
    "    #再對未排序的small_list與big_list重複相同的動作\n",
    "    small_list = quick_sort(small_list)  \n",
    "    big_list = quick_sort(big_list)\n",
    "    return small_list+key_list+big_list"
   ]
  },
  {
   "cell_type": "code",
   "execution_count": 31,
   "metadata": {},
   "outputs": [
    {
     "data": {
      "text/plain": [
       "[3, 3, 4, 6, 7, 78, 225]"
      ]
     },
     "execution_count": 31,
     "metadata": {},
     "output_type": "execute_result"
    }
   ],
   "source": [
    "list = [3,6,3,7,225,78,4]\n",
    "quick_sort(list)"
   ]
  },
  {
   "cell_type": "markdown",
   "metadata": {},
   "source": [
    "# Example"
   ]
  },
  {
   "cell_type": "markdown",
   "metadata": {},
   "source": [
    "list = [3,6,3,7,225,78,4]"
   ]
  },
  {
   "cell_type": "markdown",
   "metadata": {},
   "source": [
    "Step1. 判斷list的長度是否大於1"
   ]
  },
  {
   "cell_type": "markdown",
   "metadata": {},
   "source": [
    "Step2. 將3 (list[0]) 設為key"
   ]
  },
  {
   "cell_type": "markdown",
   "metadata": {},
   "source": [
    "Step3. 一個個去比較每個在list內的值\n",
    "   - 第0個：3 = key，放入key_list\n",
    "   - 第1個：6 > key，放入big_list\n",
    "   - 第2個：3 = key，放入key_list\n",
    "   - 第3個：7 > key，放入big_list\n",
    "   - 第4個：225 > key，放入big_list\n",
    "   - 第5個：78 >key，放入big_list\n",
    "   - 第6個：4 > key，放入big_list\n",
    "        > 目前[]+[3,3]+[6,7,225,78,4]"
   ]
  },
  {
   "cell_type": "markdown",
   "metadata": {},
   "source": [
    "Step1.1. 重複quick_sort動作\n",
    "   - small_list：長度小於1，返回\n",
    "   - big_list：長度大於1，往下執行"
   ]
  },
  {
   "cell_type": "markdown",
   "metadata": {},
   "source": [
    "Step2.1 將6 (big_list[0])設為key"
   ]
  },
  {
   "cell_type": "markdown",
   "metadata": {},
   "source": [
    "Step3.1 一個個比較每一個值\n",
    "   - 第0個：6 = key，放入key_list(1.0)\n",
    "   - 第1個：7 > key，放入big_list(1.0)\n",
    "   - 第2個：225 > key，放入big_list(1.0)\n",
    "   - 第3個：78 > key，放入big_list(1.0)\n",
    "   - 第4個：4 < key，放入small_list(1.0)\n",
    "       > 目前[]+[3,3]+[[4]+[6]+[7,225,78]]"
   ]
  },
  {
   "cell_type": "markdown",
   "metadata": {},
   "source": [
    "Step1.2. 重複quick_sort動作\n",
    "\n",
    "   - small_list：長度等於1，返回\n",
    "   - big_list：長度大於1，往下執行"
   ]
  },
  {
   "cell_type": "markdown",
   "metadata": {},
   "source": [
    "Step2.2 將7 (big_list(1.0)[0])設為key"
   ]
  },
  {
   "cell_type": "markdown",
   "metadata": {},
   "source": [
    "Step3.2 一個個比較每一個值\n",
    "\n",
    "   - 第0個：7 = key，放入key_list(2.0)\n",
    "   - 第1個：225 > key，放入big_list(2.0)\n",
    "   - 第2個：78 > key，放入big_list(2.0)\n",
    "      > 目前[]+[3,3]+[[4]+[6]+[[]+[7]+[225,78]]]"
   ]
  },
  {
   "cell_type": "markdown",
   "metadata": {},
   "source": [
    "Step1.3. 重複quick_sort動作\n",
    "\n",
    "   - small_list：長度小於1，返回\n",
    "   - big_list：長度大於1，往下執行"
   ]
  },
  {
   "cell_type": "markdown",
   "metadata": {},
   "source": [
    "Step2.3 將225 (big_list(2.0)[0])設為key"
   ]
  },
  {
   "cell_type": "markdown",
   "metadata": {},
   "source": [
    "Step3.3 一個個比較每一個值\n",
    "\n",
    "   - 第0個：225 = key，放入key_list(3.0)\n",
    "   - 第1個：78 < key，放入small_list(3.0)\n",
    "       > 目前[]+[3,3]+[[4]+[6]+[[]+[7]+[[78]+[225]+[]]]]"
   ]
  }
 ],
 "metadata": {
  "kernelspec": {
   "display_name": "Python 3",
   "language": "python",
   "name": "python3"
  },
  "language_info": {
   "codemirror_mode": {
    "name": "ipython",
    "version": 3
   },
   "file_extension": ".py",
   "mimetype": "text/x-python",
   "name": "python",
   "nbconvert_exporter": "python",
   "pygments_lexer": "ipython3",
   "version": "3.7.1"
  }
 },
 "nbformat": 4,
 "nbformat_minor": 2
}
