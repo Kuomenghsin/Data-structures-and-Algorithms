{
 "cells": [
  {
   "cell_type": "markdown",
   "metadata": {},
   "source": [
    "# Quick Sort"
   ]
  },
  {
   "cell_type": "markdown",
   "metadata": {},
   "source": [
    "05113010 哲學四 陳鳳庭"
   ]
  },
  {
   "cell_type": "markdown",
   "metadata": {},
   "source": [
    "## Introduction"
   ]
  },
  {
   "cell_type": "markdown",
   "metadata": {},
   "source": [
    " - quick sort(快速排序法)，一種排序方式，使用Divide and Conquer(分治法：將問題切小再解決，最後將結果合併)方式進行\n",
    " - 先取一個值為基準點(key)，以基準點為主將其他數字分為兩堆，一堆大於基準點(bigger)，一堆小於基準點(list)，再對兩堆以**相同取基準點的方式**，重複進行此動作"
   ]
  },
  {
   "cell_type": "markdown",
   "metadata": {},
   "source": [
    "## idea"
   ]
  },
  {
   "cell_type": "markdown",
   "metadata": {},
   "source": [
    "一開始一直被之前參考網站的Code綁住，原本想說那乾脆不要用array，試試看用linked list做做看quick sort，結果發現有技術上的困難😂，後來靈光一閃，想到可以把linked list執行quick sort的方法，用array執行"
   ]
  },
  {
   "cell_type": "markdown",
   "metadata": {},
   "source": [
    "     § linked list架構quick sort想法：將最後一個值設為key，從頭開始往後找，找到大於key的值就往後丟"
   ]
  },
  {
   "cell_type": "code",
   "execution_count": 1,
   "metadata": {},
   "outputs": [],
   "source": [
    "def quick_sort(list):\n",
    "    if len(list) <= 1:                    #先判斷list是否是可以比大小的\n",
    "        return list\n",
    "    \n",
    "    bigger = []                          #創造一個空間放大於key的值，最後在一起往後加\n",
    "    \n",
    "    key = list[-1]                       #將最後一個值設為key\n",
    "    i = 0\n",
    "    while i < len(list):                 #一個個與key比較\n",
    "        if list[i] <= key:               #<=key就放著不動，往下一個繼續比\n",
    "            i += 1\n",
    "        else:                            #>key就抓出來放到剛剛建立的空間，並把它在原本的list上刪除\n",
    "            bigger.append(list.pop(i))      #因為原本的值被刪除，index改變，所以i不加1\n",
    "    \n",
    "    key_list = []                        #把檢查過後的key抓出來另外放，並從原本的list上刪除\n",
    "    key_list.append(list[-1])            \n",
    "    list.pop()\n",
    "    \n",
    "    list = quick_sort(list)              #遞迴式執行\n",
    "    bigger = quick_sort(bigger)\n",
    "    return list+key_list+bigger"
   ]
  },
  {
   "cell_type": "code",
   "execution_count": 2,
   "metadata": {},
   "outputs": [
    {
     "data": {
      "text/plain": [
       "[0, 2, 2, 3, 3, 4, 4, 7, 15]"
      ]
     },
     "execution_count": 2,
     "metadata": {},
     "output_type": "execute_result"
    }
   ],
   "source": [
    "list = [3,2,15,0,3,4,2,4,7]\n",
    "quick_sort(list)"
   ]
  },
  {
   "cell_type": "markdown",
   "metadata": {},
   "source": [
    "# Example"
   ]
  },
  {
   "cell_type": "markdown",
   "metadata": {},
   "source": [
    "list = [3,2,15,0,3,4,2,4,7]"
   ]
  },
  {
   "cell_type": "markdown",
   "metadata": {},
   "source": [
    "Step1. 判斷list是否能夠比大小"
   ]
  },
  {
   "cell_type": "markdown",
   "metadata": {},
   "source": [
    "Step2. 將7 (最後一個值) 設為key"
   ]
  },
  {
   "cell_type": "markdown",
   "metadata": {},
   "source": [
    "Step3. 一個個去比較每個在list內的值\n",
    "   - index[0]：3 < key，不動\n",
    "   - index[1]：2 < key，不動\n",
    "   - index[2]：15 > key，抓出來\n",
    "   - index[2]：0 < key，不動\n",
    "   - index[3]：3 < key，不動\n",
    "   - index[4]：4 < key，不動\n",
    "   - index[5]：2 < key，不動\n",
    "   - index[7]：4 < key，不動\n",
    "   - index[8]：7 = key，不動"
   ]
  },
  {
   "cell_type": "markdown",
   "metadata": {},
   "source": [
    "Step4. 將檢查過的key另外放\n",
    "            \n",
    "            > 目前[3,2,0,3,4,2,4]+[7]+[15]"
   ]
  },
  {
   "cell_type": "markdown",
   "metadata": {},
   "source": [
    "Step1.1 重複quick sort\n",
    "   - list：能夠比大小\n",
    "   - bigger：不能比大小"
   ]
  },
  {
   "cell_type": "markdown",
   "metadata": {},
   "source": [
    "Step2.1 將4 (最後一個值) 設為key"
   ]
  },
  {
   "cell_type": "markdown",
   "metadata": {},
   "source": [
    "Step3.1 一個個去比較每個在list內的值\n",
    "   - index[0]：3 < key，不動\n",
    "   - index[1]：2 < key，不動\n",
    "   - index[2]：0 < key，不動\n",
    "   - index[3]：3 < key，不動\n",
    "   - index[4]：4 = key，不動\n",
    "   - index[5]：2 < key，不動\n",
    "   - index[6]：4 = key，不動"
   ]
  },
  {
   "cell_type": "markdown",
   "metadata": {},
   "source": [
    "Step4.1 將檢查過的key另外放\n",
    "            \n",
    "            > 目前[[3,2,0,3,4,2]+[4]+[]]+[7]+[15]"
   ]
  },
  {
   "cell_type": "markdown",
   "metadata": {},
   "source": [
    "Step1.2 重複quick sort\n",
    "   - list：能夠比大小\n",
    "   - bigger：不能比大小"
   ]
  },
  {
   "cell_type": "markdown",
   "metadata": {},
   "source": [
    "Step2.2 將2 (最後一個值) 設為key"
   ]
  },
  {
   "cell_type": "markdown",
   "metadata": {},
   "source": [
    "Step3.2 一個個去比較每個在list內的值\n",
    "   - index[0]：3 > key，抓出來\n",
    "   - index[0]：2 = key，不動\n",
    "   - index[1]：0 < key，不動\n",
    "   - index[2]：3 > key，抓出來\n",
    "   - index[2]：4 > key，抓出來\n",
    "   - index[2]：2 = key，不動"
   ]
  },
  {
   "cell_type": "markdown",
   "metadata": {},
   "source": [
    "Step4.2 將檢查過的key另外放\n",
    "            \n",
    "            > 目前[[[2,0]+[2]+[3,3,4]]+[4]+[]]+[7]+[15]"
   ]
  },
  {
   "cell_type": "markdown",
   "metadata": {},
   "source": [
    "Step1.3 重複quick sort\n",
    "   - list：能夠比大小\n",
    "   - bigger：能夠比大小"
   ]
  },
  {
   "cell_type": "markdown",
   "metadata": {},
   "source": [
    "Step2.3 \n",
    "   - list： 將0 (最後一個值) 設為key\n",
    "   - bigger：將4 (最後一個值) 設為key"
   ]
  },
  {
   "cell_type": "markdown",
   "metadata": {},
   "source": [
    "Step3.3 一個個去比較每個在list內的值\n",
    "   - list\n",
    "       - index[0]：2 > key，抓出來\n",
    "       - index[1]：0 = key，不動\n",
    "   - bigger\n",
    "       - index[0]：3 < key，不動\n",
    "       - index[1]：3 < key，不動\n",
    "       - index[2]：4 = key，不動"
   ]
  },
  {
   "cell_type": "markdown",
   "metadata": {},
   "source": [
    "Step4.3 將檢查過的key另外放\n",
    "            \n",
    "            > 目前[[[[]+[0]+[2]]+[2]+[[3,3]+[4]+[]]]+[4]+[]]+[7]+[15]"
   ]
  },
  {
   "cell_type": "markdown",
   "metadata": {},
   "source": [
    "Step1.4 重複quick sort\n",
    "   - list：能夠比大小\n",
    "   - bigger：不能比大小"
   ]
  },
  {
   "cell_type": "markdown",
   "metadata": {},
   "source": [
    "Step2.4 將3 (最後一個值) 設為key"
   ]
  },
  {
   "cell_type": "markdown",
   "metadata": {},
   "source": [
    "Step3.4 一個個去比較每個在list內的值\n",
    "   - index[0]：3 = key，不動\n",
    "   - index[1]：3 = key，不動"
   ]
  },
  {
   "cell_type": "markdown",
   "metadata": {},
   "source": [
    "Step4.4 將檢查過的key另外放\n",
    "            \n",
    "            > 目前[[[[]+[0]+[2]]+[2]+[[3]+[3]+[]]+[4]+[]]]+[4]+[]]+[7]+[15]"
   ]
  },
  {
   "cell_type": "markdown",
   "metadata": {},
   "source": [
    "## Time Complexity"
   ]
  },
  {
   "cell_type": "markdown",
   "metadata": {},
   "source": [
    "- Best case：O(nlogn)\n",
    "- Average case：O(nlogn)\n",
    "- Worst case：O(n^2)"
   ]
  }
 ],
 "metadata": {
  "kernelspec": {
   "display_name": "Python 3",
   "language": "python",
   "name": "python3"
  },
  "language_info": {
   "codemirror_mode": {
    "name": "ipython",
    "version": 3
   },
   "file_extension": ".py",
   "mimetype": "text/x-python",
   "name": "python",
   "nbconvert_exporter": "python",
   "pygments_lexer": "ipython3",
   "version": "3.7.1"
  }
 },
 "nbformat": 4,
 "nbformat_minor": 2
}
